{
 "cells": [
  {
   "cell_type": "code",
   "execution_count": 1,
   "id": "2c7ddaa7",
   "metadata": {},
   "outputs": [],
   "source": [
    "import os\n",
    "import csv"
   ]
  },
  {
   "cell_type": "code",
   "execution_count": 9,
   "id": "2906969f",
   "metadata": {},
   "outputs": [],
   "source": [
    "def get_right_db(db_list, db_name, db_search):\n",
    "    # print(db_name)\n",
    "    runtime_list = []\n",
    "    for db in db_list:\n",
    "        if db_search in db:\n",
    "            with open(workdir + db_dir + \"/\" + db) as csv_file:\n",
    "                csv_reader = list(csv.reader(csv_file, delimiter=','))[1:]\n",
    "                for row in csv_reader:\n",
    "                    # print(\"\\t\", row[-2], row[-1])  \n",
    "                    runtime = round(float(row[-1]) - float(row[-2]), 3)\n",
    "                    # print(\"\\t\", str(runtime))\n",
    "                    runtime_list.append(runtime)\n",
    "    return runtime_list"
   ]
  },
  {
   "cell_type": "markdown",
   "id": "709c8026",
   "metadata": {},
   "source": [
    "## Runtime check"
   ]
  },
  {
   "cell_type": "code",
   "execution_count": 20,
   "id": "a24517d4",
   "metadata": {
    "scrolled": true
   },
   "outputs": [
    {
     "name": "stdout",
     "output_type": "stream",
     "text": [
      "Done!\n"
     ]
    }
   ],
   "source": [
    "workdir = \"/home/scrapjack/PycharmProjects/OSCAR-P/runs-results/annotations-test/Database/\"\n",
    "\n",
    "database_dirs = sorted(os.listdir(workdir))\n",
    "database_dirs.remove(\"output\")\n",
    "\n",
    "csv_header = \"blur_1, blur_2, mask_1, mask_2, dummy_1, dummy_2, total\"\n",
    "csv_content = []\n",
    "\n",
    "for db_dir in database_dirs:\n",
    "    # print(db_dir)\n",
    "    \n",
    "    db_list = sorted(os.listdir(workdir + db_dir))\n",
    "    # print(db_list)\n",
    "    \n",
    "    blurs = get_right_db(db_list, \"blurry-faces\", \"blur\")\n",
    "    masks = get_right_db(db_list, \"mask-detector\", \"mask\")\n",
    "    dummies = get_right_db(db_list, \"dummy\", \"dummy\")\n",
    "    \n",
    "    times = blurs + masks + dummies\n",
    "    \n",
    "    total = 0\n",
    "    for t in times:\n",
    "        total += t\n",
    "    \n",
    "    times += [round(total, 3)]\n",
    "    \n",
    "    csv_content.append(str(times))\n",
    "    \n",
    "print(\"Done!\")"
   ]
  },
  {
   "cell_type": "code",
   "execution_count": 21,
   "id": "0fe915e1",
   "metadata": {},
   "outputs": [
    {
     "name": "stdout",
     "output_type": "stream",
     "text": [
      "Done!\n"
     ]
    }
   ],
   "source": [
    "with open(workdir + \"output/summary.csv\", \"w\") as file:\n",
    "    file.write(csv_header + \"\\n\")\n",
    "    for row in csv_content:\n",
    "        file.write(row[1:-1] + \"\\n\")\n",
    "print(\"Done!\")"
   ]
  },
  {
   "cell_type": "markdown",
   "id": "c5c29a5e",
   "metadata": {},
   "source": [
    "## Constraints check"
   ]
  },
  {
   "cell_type": "code",
   "execution_count": 27,
   "id": "a559c868",
   "metadata": {
    "scrolled": true
   },
   "outputs": [
    {
     "name": "stdout",
     "output_type": "stream",
     "text": [
      "Done!\n"
     ]
    }
   ],
   "source": [
    "workdir = \"/home/scrapjack/PycharmProjects/OSCAR-P/runs-results/annotations-test/Database/\"\n",
    "\n",
    "database_dirs = sorted(os.listdir(workdir))\n",
    "database_dirs.remove(\"output\")\n",
    "\n",
    "csv_header = \"blur, mask, dummy, blur+mask, mask+dummy, global\"\n",
    "csv_content = []\n",
    "\n",
    "for db_dir in database_dirs:\n",
    "    # print(db_dir)\n",
    "    \n",
    "    db_list = sorted(os.listdir(workdir + db_dir))\n",
    "    # print(db_list)\n",
    "    \n",
    "    blurs = get_right_db(db_list, \"blurry-faces\", \"blur\")\n",
    "    blur = blurs[0] + blurs[1]\n",
    "    masks = get_right_db(db_list, \"mask-detector\", \"mask\")\n",
    "    mask = masks[0] + masks[1]\n",
    "    dummies = get_right_db(db_list, \"dummy\", \"dummy\")\n",
    "    dummy = dummies[0] + dummies[1]\n",
    "    \n",
    "    blur_mask = blur + mask\n",
    "    mask_dummy = mask + dummy\n",
    "    global_time = blur + mask + dummy\n",
    "    \n",
    "    times = [blur, mask, dummy, blur_mask, mask_dummy, global_time]\n",
    "    \n",
    "    for i in range(len(times)):\n",
    "        times[i] = round(times[i], 3)\n",
    "    \n",
    "    csv_content.append(str(times))\n",
    "    \n",
    "print(\"Done!\")"
   ]
  },
  {
   "cell_type": "code",
   "execution_count": 28,
   "id": "e2c358af",
   "metadata": {},
   "outputs": [
    {
     "name": "stdout",
     "output_type": "stream",
     "text": [
      "Done!\n"
     ]
    }
   ],
   "source": [
    "with open(workdir + \"output/constraints_check.csv\", \"w\") as file:\n",
    "    file.write(csv_header + \"\\n\")\n",
    "    for row in csv_content:\n",
    "        file.write(row[1:-1] + \"\\n\")\n",
    "print(\"Done!\")"
   ]
  },
  {
   "cell_type": "markdown",
   "id": "3ba77945",
   "metadata": {},
   "source": [
    "## Constraints validation"
   ]
  },
  {
   "cell_type": "code",
   "execution_count": 35,
   "id": "a0894c2a",
   "metadata": {
    "scrolled": true
   },
   "outputs": [
    {
     "name": "stdout",
     "output_type": "stream",
     "text": [
      "Done!\n"
     ]
    }
   ],
   "source": [
    "workdir = \"/home/scrapjack/PycharmProjects/OSCAR-P/runs-results/annotations-test/Database/\"\n",
    "\n",
    "database_dirs = sorted(os.listdir(workdir))\n",
    "database_dirs.remove(\"output\")\n",
    "\n",
    "csv_header = \"blur, mask, dummy, blur+mask, mask+dummy, global\"\n",
    "csv_content = []\n",
    "\n",
    "for db_dir in database_dirs:\n",
    "    # print(db_dir)\n",
    "    \n",
    "    db_list = sorted(os.listdir(workdir + db_dir))\n",
    "    # print(db_list)\n",
    "    \n",
    "    blurs = get_right_db(db_list, \"blurry-faces\", \"blur\")\n",
    "    blur = blurs[0] + blurs[1]\n",
    "    masks = get_right_db(db_list, \"mask-detector\", \"mask\")\n",
    "    mask = masks[0] + masks[1]\n",
    "    dummies = get_right_db(db_list, \"dummy\", \"dummy\")\n",
    "    dummy = dummies[0] + dummies[1]\n",
    "    \n",
    "    blur_mask = blur + mask\n",
    "    mask_dummy = mask + dummy\n",
    "    global_time = blur + mask + dummy\n",
    "    \n",
    "    checks = [0] * 6\n",
    "    times = [blur, mask, dummy, blur_mask, mask_dummy, global_time]\n",
    "    constraints = [5, 5, 20, 10, 20, 20]\n",
    "    \n",
    "    for i in range(6):\n",
    "        if times[i] > constraints[i]:\n",
    "            checks[i] = 1\n",
    "    \n",
    "    csv_content.append(str(checks))\n",
    "    \n",
    "print(\"Done!\")"
   ]
  },
  {
   "cell_type": "code",
   "execution_count": 34,
   "id": "f1d56140",
   "metadata": {},
   "outputs": [
    {
     "name": "stdout",
     "output_type": "stream",
     "text": [
      "Done!\n"
     ]
    }
   ],
   "source": [
    "with open(workdir + \"output/constraints_validation.csv\", \"w\") as file:\n",
    "    file.write(csv_header + \"\\n\")\n",
    "    for row in csv_content:\n",
    "        file.write(row[1:-1] + \"\\n\")\n",
    "print(\"Done!\")"
   ]
  }
 ],
 "metadata": {
  "kernelspec": {
   "display_name": "Python 3 (ipykernel)",
   "language": "python",
   "name": "python3"
  },
  "language_info": {
   "codemirror_mode": {
    "name": "ipython",
    "version": 3
   },
   "file_extension": ".py",
   "mimetype": "text/x-python",
   "name": "python",
   "nbconvert_exporter": "python",
   "pygments_lexer": "ipython3",
   "version": "3.10.4"
  }
 },
 "nbformat": 4,
 "nbformat_minor": 5
}
