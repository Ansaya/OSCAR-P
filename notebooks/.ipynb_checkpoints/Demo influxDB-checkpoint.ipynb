{
 "cells": [
  {
   "cell_type": "code",
   "execution_count": 55,
   "id": "2c7ddaa7",
   "metadata": {},
   "outputs": [],
   "source": [
    "import os\n",
    "import csv\n",
    "import json"
   ]
  },
  {
   "cell_type": "code",
   "execution_count": 9,
   "id": "2906969f",
   "metadata": {},
   "outputs": [],
   "source": [
    "def get_right_db(db_list, db_name, db_search):\n",
    "    # print(db_name)\n",
    "    runtime_list = []\n",
    "    for db in db_list:\n",
    "        if db_search in db:\n",
    "            with open(workdir + db_dir + \"/\" + db) as csv_file:\n",
    "                csv_reader = list(csv.reader(csv_file, delimiter=','))[1:]\n",
    "                for row in csv_reader:\n",
    "                    # print(\"\\t\", row[-2], row[-1])  \n",
    "                    runtime = round(float(row[-1]) - float(row[-2]), 3)\n",
    "                    # print(\"\\t\", str(runtime))\n",
    "                    runtime_list.append(runtime)\n",
    "    return runtime_list"
   ]
  },
  {
   "cell_type": "markdown",
   "id": "709c8026",
   "metadata": {},
   "source": [
    "## Runtime check"
   ]
  },
  {
   "cell_type": "code",
   "execution_count": 20,
   "id": "a24517d4",
   "metadata": {
    "scrolled": true
   },
   "outputs": [
    {
     "name": "stdout",
     "output_type": "stream",
     "text": [
      "Done!\n"
     ]
    }
   ],
   "source": [
    "workdir = \"/home/scrapjack/PycharmProjects/OSCAR-P/runs-results/annotations-test/Database/\"\n",
    "\n",
    "database_dirs = sorted(os.listdir(workdir))\n",
    "database_dirs.remove(\"output\")\n",
    "\n",
    "csv_header = \"blur_1, blur_2, mask_1, mask_2, dummy_1, dummy_2, total\"\n",
    "csv_content = []\n",
    "\n",
    "for db_dir in database_dirs:\n",
    "    # print(db_dir)\n",
    "    \n",
    "    db_list = sorted(os.listdir(workdir + db_dir))\n",
    "    # print(db_list)\n",
    "    \n",
    "    blurs = get_right_db(db_list, \"blurry-faces\", \"blur\")\n",
    "    masks = get_right_db(db_list, \"mask-detector\", \"mask\")\n",
    "    dummies = get_right_db(db_list, \"dummy\", \"dummy\")\n",
    "    \n",
    "    times = blurs + masks + dummies\n",
    "    \n",
    "    total = 0\n",
    "    for t in times:\n",
    "        total += t\n",
    "    \n",
    "    times += [round(total, 3)]\n",
    "    \n",
    "    csv_content.append(str(times))\n",
    "    \n",
    "print(\"Done!\")"
   ]
  },
  {
   "cell_type": "code",
   "execution_count": 21,
   "id": "0fe915e1",
   "metadata": {},
   "outputs": [
    {
     "name": "stdout",
     "output_type": "stream",
     "text": [
      "Done!\n"
     ]
    }
   ],
   "source": [
    "with open(workdir + \"output/summary.csv\", \"w\") as file:\n",
    "    file.write(csv_header + \"\\n\")\n",
    "    for row in csv_content:\n",
    "        file.write(row[1:-1] + \"\\n\")\n",
    "print(\"Done!\")"
   ]
  },
  {
   "cell_type": "markdown",
   "id": "c5c29a5e",
   "metadata": {},
   "source": [
    "## Constraints check"
   ]
  },
  {
   "cell_type": "code",
   "execution_count": 27,
   "id": "a559c868",
   "metadata": {
    "scrolled": true
   },
   "outputs": [
    {
     "name": "stdout",
     "output_type": "stream",
     "text": [
      "Done!\n"
     ]
    }
   ],
   "source": [
    "workdir = \"/home/scrapjack/PycharmProjects/OSCAR-P/runs-results/annotations-test/Database/\"\n",
    "\n",
    "database_dirs = sorted(os.listdir(workdir))\n",
    "database_dirs.remove(\"output\")\n",
    "\n",
    "csv_header = \"blur, mask, dummy, blur+mask, mask+dummy, global\"\n",
    "csv_content = []\n",
    "\n",
    "for db_dir in database_dirs:\n",
    "    # print(db_dir)\n",
    "    \n",
    "    db_list = sorted(os.listdir(workdir + db_dir))\n",
    "    # print(db_list)\n",
    "    \n",
    "    blurs = get_right_db(db_list, \"blurry-faces\", \"blur\")\n",
    "    blur = blurs[0] + blurs[1]\n",
    "    masks = get_right_db(db_list, \"mask-detector\", \"mask\")\n",
    "    mask = masks[0] + masks[1]\n",
    "    dummies = get_right_db(db_list, \"dummy\", \"dummy\")\n",
    "    dummy = dummies[0] + dummies[1]\n",
    "    \n",
    "    blur_mask = blur + mask\n",
    "    mask_dummy = mask + dummy\n",
    "    global_time = blur + mask + dummy\n",
    "    \n",
    "    times = [blur, mask, dummy, blur_mask, mask_dummy, global_time]\n",
    "    \n",
    "    for i in range(len(times)):\n",
    "        times[i] = round(times[i], 3)\n",
    "    \n",
    "    csv_content.append(str(times))\n",
    "    \n",
    "print(\"Done!\")"
   ]
  },
  {
   "cell_type": "code",
   "execution_count": 28,
   "id": "e2c358af",
   "metadata": {},
   "outputs": [
    {
     "name": "stdout",
     "output_type": "stream",
     "text": [
      "Done!\n"
     ]
    }
   ],
   "source": [
    "with open(workdir + \"output/constraints_check.csv\", \"w\") as file:\n",
    "    file.write(csv_header + \"\\n\")\n",
    "    for row in csv_content:\n",
    "        file.write(row[1:-1] + \"\\n\")\n",
    "print(\"Done!\")"
   ]
  },
  {
   "cell_type": "markdown",
   "id": "3ba77945",
   "metadata": {},
   "source": [
    "## Constraints validation"
   ]
  },
  {
   "cell_type": "code",
   "execution_count": 35,
   "id": "a0894c2a",
   "metadata": {
    "scrolled": true
   },
   "outputs": [
    {
     "name": "stdout",
     "output_type": "stream",
     "text": [
      "Done!\n"
     ]
    }
   ],
   "source": [
    "workdir = \"/home/scrapjack/PycharmProjects/OSCAR-P/runs-results/annotations-test/Database/\"\n",
    "\n",
    "database_dirs = sorted(os.listdir(workdir))\n",
    "database_dirs.remove(\"output\")\n",
    "\n",
    "csv_header = \"blur, mask, dummy, blur+mask, mask+dummy, global\"\n",
    "csv_content = []\n",
    "\n",
    "for db_dir in database_dirs:\n",
    "    # print(db_dir)\n",
    "    \n",
    "    db_list = sorted(os.listdir(workdir + db_dir))\n",
    "    # print(db_list)\n",
    "    \n",
    "    blurs = get_right_db(db_list, \"blurry-faces\", \"blur\")\n",
    "    blur = blurs[0] + blurs[1]\n",
    "    masks = get_right_db(db_list, \"mask-detector\", \"mask\")\n",
    "    mask = masks[0] + masks[1]\n",
    "    dummies = get_right_db(db_list, \"dummy\", \"dummy\")\n",
    "    dummy = dummies[0] + dummies[1]\n",
    "    \n",
    "    blur_mask = blur + mask\n",
    "    mask_dummy = mask + dummy\n",
    "    global_time = blur + mask + dummy\n",
    "    \n",
    "    checks = [0] * 6\n",
    "    times = [blur, mask, dummy, blur_mask, mask_dummy, global_time]\n",
    "    constraints = [5, 5, 20, 10, 20, 20]\n",
    "    \n",
    "    for i in range(6):\n",
    "        if times[i] > constraints[i]:\n",
    "            checks[i] = 1\n",
    "    \n",
    "    csv_content.append(str(checks))\n",
    "    \n",
    "print(\"Done!\")"
   ]
  },
  {
   "cell_type": "code",
   "execution_count": 34,
   "id": "f1d56140",
   "metadata": {},
   "outputs": [
    {
     "name": "stdout",
     "output_type": "stream",
     "text": [
      "Done!\n"
     ]
    }
   ],
   "source": [
    "with open(workdir + \"output/constraints_validation.csv\", \"w\") as file:\n",
    "    file.write(csv_header + \"\\n\")\n",
    "    for row in csv_content:\n",
    "        file.write(row[1:-1] + \"\\n\")\n",
    "print(\"Done!\")"
   ]
  },
  {
   "cell_type": "markdown",
   "id": "b8ca8415",
   "metadata": {},
   "source": [
    "## Merge influxdb.csv"
   ]
  },
  {
   "cell_type": "code",
   "execution_count": 94,
   "id": "11ea3fe5",
   "metadata": {},
   "outputs": [],
   "source": [
    "def correct_row(row, db_search, i):\n",
    "    dict_0 = json.loads(row[3])\n",
    "    event_time = dict_0[\"Records\"][0][\"eventTime\"]\n",
    "    \n",
    "    row[3] = event_time\n",
    "    row[0] = \"video_\" + str(i)\n",
    "    row[2] = db_search\n",
    "    \n",
    "    return row"
   ]
  },
  {
   "cell_type": "code",
   "execution_count": 93,
   "id": "f1975cc7",
   "metadata": {},
   "outputs": [],
   "source": [
    "def get_csv_content(db_list, db_search, i):\n",
    "    lines = []\n",
    "    for db in db_list:\n",
    "        if db_search in db:\n",
    "            with open(workdir + db_dir + \"/\" + db) as csv_file:\n",
    "                # lines += csv_file.readlines()[1:]\n",
    "                csv_rows = list(csv.reader(csv_file, delimiter=','))[1:]\n",
    "                for row in csv_rows:\n",
    "                    lines += correct_row(row, db_search, i)\n",
    "    return lines"
   ]
  },
  {
   "cell_type": "code",
   "execution_count": 98,
   "id": "1b0c849d",
   "metadata": {
    "scrolled": true
   },
   "outputs": [
    {
     "name": "stdout",
     "output_type": "stream",
     "text": [
      "['video_0', 'vnode-2.localdomain', 'blur', '2022-06-13T14:40:11.386Z', '1655131226.1276991', '1655131228.3781693', 'video_0', 'vnode-2.localdomain', 'blur', '2022-06-13T14:40:11.386Z', '1655131232.2079945', '1655131234.4072266', 'video_0', 'vnode-2.localdomain', 'mask', '2022-06-13T14:40:35.367Z', '1655131244.2007', '1655131244.616981', 'video_0', 'vnode-2.localdomain', 'mask', '2022-06-13T14:40:35.398Z', '1655131253.8901649', '1655131254.3599198', 'video_0', 'vnode-2.localdomain', 'dummy', '2022-06-13T14:40:44.774Z', '1655131263.0724108', '1655131273.6605575', 'video_0', 'vnode-2.localdomain', 'dummy', '2022-06-13T14:40:54.549Z', '1655131281.968743', '1655131295.6933305']\n",
      "Done!\n"
     ]
    }
   ],
   "source": [
    "workdir = \"/home/scrapjack/PycharmProjects/OSCAR-P/runs-results/annotations-test/Database/\"\n",
    "\n",
    "database_dirs = sorted(os.listdir(workdir))\n",
    "database_dirs.remove(\"output\")\n",
    "\n",
    "csv_header = \"uuid,resource_id,component_name,start_time_job,start_time_func,end_time_func\"\n",
    "csv_content = []\n",
    "\n",
    "for i in range(len(database_dirs)):\n",
    "    db_dir = database_dirs[i]\n",
    "    # print(db_dir)\n",
    "    \n",
    "    db_list = sorted(os.listdir(workdir + db_dir))\n",
    "    # print(db_list)\n",
    "    \n",
    "    blurs = get_csv_content(db_list, \"blur\", i)\n",
    "    masks = get_csv_content(db_list, \"mask\", i)\n",
    "    dummies = get_csv_content(db_list, \"dummy\", i)\n",
    "    \n",
    "    lines = blurs + masks + dummies\n",
    "    # print(len(lines))\n",
    "    \n",
    "    print(lines)\n",
    "    \n",
    "    csv_content += lines\n",
    "    break\n",
    "\n",
    "# print(len(csv_content))\n",
    "print(\"Done!\")"
   ]
  },
  {
   "cell_type": "code",
   "execution_count": 97,
   "id": "a2498bf6",
   "metadata": {},
   "outputs": [
    {
     "name": "stdout",
     "output_type": "stream",
     "text": [
      "Done!\n"
     ]
    }
   ],
   "source": [
    "with open(workdir + \"output/influxdb.csv\", \"w\") as file:\n",
    "    file.write(csv_header + \"\\n\")\n",
    "    for row in csv_content:\n",
    "        file.write(row + \"\\n\")\n",
    "print(\"Done!\")"
   ]
  }
 ],
 "metadata": {
  "kernelspec": {
   "display_name": "Python 3 (ipykernel)",
   "language": "python",
   "name": "python3"
  },
  "language_info": {
   "codemirror_mode": {
    "name": "ipython",
    "version": 3
   },
   "file_extension": ".py",
   "mimetype": "text/x-python",
   "name": "python",
   "nbconvert_exporter": "python",
   "pygments_lexer": "ipython3",
   "version": "3.10.4"
  }
 },
 "nbformat": 4,
 "nbformat_minor": 5
}
