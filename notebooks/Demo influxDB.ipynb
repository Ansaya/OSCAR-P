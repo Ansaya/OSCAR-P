{
 "cells": [
  {
   "cell_type": "code",
   "execution_count": 2,
   "id": "b99f2d4c",
   "metadata": {},
   "outputs": [],
   "source": [
    "import os"
   ]
  },
  {
   "cell_type": "code",
   "execution_count": 10,
   "id": "00edcb2e",
   "metadata": {},
   "outputs": [
    {
     "data": {
      "text/plain": [
       "['Run #1']"
      ]
     },
     "execution_count": 10,
     "metadata": {},
     "output_type": "execute_result"
    }
   ],
   "source": [
    "workdir = \"/home/scrapjack/PycharmProjects/OSCAR-P/runs-results/annotations-test\"\n",
    "\n",
    "runs_list = os.listdir(workdir)\n",
    "runs_list.remove(\"input.yaml\")\n",
    "\n",
    "runs_list"
   ]
  },
  {
   "cell_type": "code",
   "execution_count": null,
   "id": "483c1687",
   "metadata": {},
   "outputs": [],
   "source": [
    "for run in runs_list:\n",
    "    print(os.listdir(run + \"/Database\"))"
   ]
  }
 ],
 "metadata": {
  "kernelspec": {
   "display_name": "Python 3 (ipykernel)",
   "language": "python",
   "name": "python3"
  },
  "language_info": {
   "codemirror_mode": {
    "name": "ipython",
    "version": 3
   },
   "file_extension": ".py",
   "mimetype": "text/x-python",
   "name": "python",
   "nbconvert_exporter": "python",
   "pygments_lexer": "ipython3",
   "version": "3.10.4"
  }
 },
 "nbformat": 4,
 "nbformat_minor": 5
}
